{
 "metadata": {
  "language": "Julia",
  "name": "",
  "signature": "sha256:139509bc071c36462b97b50703099dbc77b8a07c96ce695681a544f173a2c3d9"
 },
 "nbformat": 3,
 "nbformat_minor": 0,
 "worksheets": [
  {
   "cells": [
    {
     "cell_type": "heading",
     "level": 1,
     "metadata": {},
     "source": [
      "Lo que est\u00e1 en el m\u00f3dulo RungeKutta:"
     ]
    },
    {
     "cell_type": "markdown",
     "metadata": {},
     "source": [
      "####RungeKutta 2 resuelve, a segundo orden, ecuaciones de la forma dx/dt=f(t,x)\n",
      "\n",
      "####RungeKutta 4 resuelve, a cuarto orden, ecuaciones de la forma dx/dt=f(t,x)\n",
      "\n",
      "####zetacero obtiene un intervalo que contiene a toda la trayectoria hasta un tiempo tf=h*n y pasa por x0. Se obtiene con Runge Kutta a 4\u00b0 orden\n",
      "\n",
      "####BuscarTBuena obtiene un tiempo (relativamente grande, siempre que demos el h de zetacero muy peque\u00f1o) T<tf que hace que la ecuaci\u00f3n 6.9 del Tucker se cumpla para Psi=z0=zetacero \n"
     ]
    },
    {
     "cell_type": "markdown",
     "metadata": {},
     "source": [
      "###En espec\u00edfico. z0 es:\n",
      "\n",
      "$x_{RK}$=[$x[i]$  for i in 1:n+1]\n",
      "\n",
      "Donde $x[i]$ se sac\u00f3 de Runge Kutta\n",
      "\n",
      "$zz$=Intervalo(minimum($x_Rk$),maximum($x_RK$));\n",
      "\n",
      "$z0$=[$\\underline{zz}$-0.1*rad($zz$) , $\\overline{zz}$+0.1*rad($zz$)]"
     ]
    },
    {
     "cell_type": "code",
     "collapsed": false,
     "input": [
      "#module RungeKutta\n",
      "#using Intervalos\n",
      "\n",
      "#export RungeKutta2, RungeKutta4, zetacero, BuscarTBuena\n",
      "\n",
      "    \n",
      "    #M\u00e9todo gen\u00e9rico de Runge-Kutta 2 para resolver ecuaciones de la forma x'=dx/dt=f(t,x)\n",
      "    function RungeKutta2(t0::Float64,x0::Float64,h::Float64,n::Integer,f::Function)\n",
      "        tf=t0+h*n\n",
      "        t=linspace(t0,tf,n+1)\n",
      "\n",
      "        x=similar(t); \n",
      "        x[1]=x0;\n",
      "\n",
      "        for i in 2:n+1\n",
      "            K1=h*f(t[i-1],x[i-1])   \n",
      "            K2=h*f(t[i],x[i-1]+K1)\n",
      "            x[i]=x[i-1]+0.5*(K1+K2)   #es la expresi\u00f3n general, depende de la funci\u00f3n definida abajo\n",
      "            #println(temp)\n",
      "        end \n",
      "        \n",
      "        \n",
      "        return x\n",
      "    end\n",
      "\n",
      "\n",
      "\n",
      "\n",
      "    #M\u00e9todo gen\u00e9rico de Runge-Kutta 4 para resolver ecuaciones de la forma x'=dx/dt=f(t,x)\n",
      "    function RungeKutta4(t0::Float64,x0::Float64,h::Float64,n::Integer,f::Function)\n",
      "\n",
      "        tf=t0+h*n\n",
      "        t=linspace(t0,tf,n+1)\n",
      "\n",
      "        x=similar(t); \n",
      "        x[1]=x0;\n",
      "\n",
      "\n",
      "        for i in 2:n+1\n",
      "            K1=h*f(t[i-1]    ,x[i-1])   \n",
      "            K2=h*f(t[i-1]+h/2,x[i-1]+K1/2)\n",
      "            K3=h*f(t[i-1]+h/2,x[i-1]+K2/2)\n",
      "            K4=h*f(t[i-1]+h  ,x[i-1]+K1)\n",
      "\n",
      "            x[i]=x[i-1]+(1/6)*(K1+2*K2+2*K3+K4)   #es la expresi\u00f3n general, depende de la funci\u00f3n definida abajo\n",
      "        end \n",
      "        \n",
      "        return x\n",
      "\n",
      "    end\n",
      "\n",
      "\n",
      "\n",
      "   "
     ],
     "language": "python",
     "metadata": {},
     "outputs": [
      {
       "metadata": {},
       "output_type": "pyout",
       "prompt_number": 1,
       "text": [
        "RungeKutta4 (generic function with 1 method)"
       ]
      }
     ],
     "prompt_number": 1
    },
    {
     "cell_type": "code",
     "collapsed": false,
     "input": [
      "function zetacero(x0,h,n,F) \n",
      "        #hasta ahora siempre t0=0\n",
      "        x_RK=RungeKutta4(t0,x0,h,n,F);\n",
      "        zz=Intervalo(minimum(x_RK),maximum(x_RK));        \n",
      "        return(Intervalo(zz.a-0.001*(zz.b-zz.a) , zz.b+0.0001*(zz.b-zz.a)))\n",
      "end\n",
      "        "
     ],
     "language": "python",
     "metadata": {},
     "outputs": [
      {
       "metadata": {},
       "output_type": "pyout",
       "prompt_number": 8,
       "text": [
        "zetacero (generic function with 2 methods)"
       ]
      }
     ],
     "prompt_number": 8
    },
    {
     "cell_type": "code",
     "collapsed": false,
     "input": [
      "\n",
      "    function BuscarTBuena(x0,h,n,F::Function)    \n",
      "        tf=n*h;\n",
      "        z0=zetacero(x0,h,n,F) \n",
      "        \n",
      "        i=0;\n",
      "        a=false;\n",
      "        while a==false\n",
      "            T=tf-h*i\n",
      "            z1=x0+Intervalo(0,T)*F(T,z0)\n",
      "            a=(z1 in z0) #la condici\u00f3n a la que quieras llegar\n",
      "            i += 1    \n",
      "        end\n",
      "        return (tf-h*i)\n",
      "    end"
     ],
     "language": "python",
     "metadata": {},
     "outputs": [
      {
       "metadata": {},
       "output_type": "pyout",
       "prompt_number": 22,
       "text": [
        "BuscarTBuena (generic function with 3 methods)"
       ]
      }
     ],
     "prompt_number": 22
    },
    {
     "cell_type": "code",
     "collapsed": false,
     "input": [
      "\n",
      "    function BuscarTBuena(x0,t0,h,n,F::Function,z0)    \n",
      "        tf=n*h+t0;\n",
      "        #z0=zetacero(x0,h,n,F) \n",
      "        \n",
      "        i=0;\n",
      "        a=false;\n",
      "        while a==false\n",
      "            T=tf-h*i+t0\n",
      "            z1=x0+Intervalo(t0,T)*F(T,z0)\n",
      "            a=(z1 in z0) #la condici\u00f3n a la que quieras llegar\n",
      "            i += 1    \n",
      "        end\n",
      "        return (tf-h*i+t0)\n",
      "    end\n",
      "        \n",
      "        \n",
      "\n",
      "\n",
      "\n",
      "#end"
     ],
     "language": "python",
     "metadata": {},
     "outputs": [
      {
       "metadata": {},
       "output_type": "pyout",
       "prompt_number": 5,
       "text": [
        "BuscarTBuena (generic function with 3 methods)"
       ]
      }
     ],
     "prompt_number": 5
    },
    {
     "cell_type": "code",
     "collapsed": false,
     "input": [
      "#using RungeKutta\n",
      "using PyPlot\n",
      "using Intervalos"
     ],
     "language": "python",
     "metadata": {},
     "outputs": [
      {
       "output_type": "stream",
       "stream": "stderr",
       "text": [
        "INFO: Loading help data...\n"
       ]
      }
     ],
     "prompt_number": 6
    },
    {
     "cell_type": "code",
     "collapsed": false,
     "input": [
      "#PROBLEMA DE UN CIRCUITO RL CON CONDICIONES INICIALES I(O)=0, V(0)=10V, L=50H, R=20OHMS\n",
      "#LA ECUACI\u00d3N ES dI/dt= (V(0)-IR)/L\n",
      "#la soluci\u00f3n anal\u00edtica es (0.5)*(1-exp(-0.4*x))  \n",
      "\n",
      "function f(x,y) \n",
      "            V=10.\n",
      "            L=50.\n",
      "            R=20.\n",
      "            return (V-y*R)/L\n",
      "    end\n",
      "\n",
      "\n",
      "n=1000; # n\u00famero de pasos\n",
      "h=0.015; # paso de integraci\u00f3n    \n",
      "x0=0.; #tiempo inicial\n",
      "y0=0.; #condici\u00f3n inicial\n",
      "xf=x0+h*n; #tiempo final (s\u00f3lo lo puedes cambiar si aumentas n)"
     ],
     "language": "python",
     "metadata": {},
     "outputs": [
      {
       "metadata": {},
       "output_type": "pyout",
       "prompt_number": 6,
       "text": [
        "15.0"
       ]
      }
     ],
     "prompt_number": 6
    },
    {
     "cell_type": "code",
     "collapsed": false,
     "input": [
      "yanal\u00edtica(y,x)=(0.5)*(1-exp(-0.4*x)) ;  #desde antes ya conoc\u00edas la soluci\u00f3n de verdad\n",
      "yexacta=[yanal\u00edtica(0,h*(i-1)) for i in 1:n+1];\n",
      "y= RungeKutta2(x0,y0,h,n,f);\n",
      "z= RungeKutta4(x0,y0,h,n,f);\n",
      "\n",
      "PyPlot.plot(linspace(x0,xf,n+1),yexacta,\"blue\")\n",
      "PyPlot.plot(linspace(x0,xf,n+1),y,\"--r\")\n",
      "PyPlot.plot(linspace(x0,xf,n+1),z,\"-.g\")"
     ],
     "language": "python",
     "metadata": {},
     "outputs": [
      {
       "metadata": {},
       "output_type": "display_data",
       "png": "[encoded data removed]",
       "text": [
        "Figure(PyObject <matplotlib.figure.Figure object at 0x7fb854ebeb10>)"
       ]
      },
      {
       "metadata": {},
       "output_type": "pyout",
       "prompt_number": 7,
       "text": [
        "1-element Array{Any,1}:\n",
        " PyObject <matplotlib.lines.Line2D object at 0x7fb854e5c810>"
       ]
      }
     ],
     "prompt_number": 7
    },
    {
     "cell_type": "heading",
     "level": 2,
     "metadata": {},
     "source": [
      "dx/dt=-2x; x0=3 "
     ]
    },
    {
     "cell_type": "markdown",
     "metadata": {},
     "source": [
      "resolverlo en t=[0,tf=1.5] y sacar T' que cumpla la condici\u00f3n chida"
     ]
    },
    {
     "cell_type": "code",
     "collapsed": false,
     "input": [
      "F(t,x)=-2x\n",
      "t0=0.0;\n",
      "x0=3.0;\n",
      "h=0.000015;\n",
      "n=100000;\n",
      "tf=t0+h*n;\n",
      "\n",
      "x_RK=RungeKutta4(t0,x0,h,n,F);\n",
      "\n",
      "T=BuscarTBuena(x0,h,n,F);\n",
      "z0=zetacero(x0,h,n,F)\n",
      "#z1=3.0+Intervalo(0,T)*f(T,z0)\n",
      "PyPlot.plot(linspace(t0,tf,n+1),x_RK,\"blue\");\n",
      "PyPlot.plot(linspace(T,T,n+1),linspace(minimum(x_RK),maximum(x_RK),n+1),\"--r\")\n"
     ],
     "language": "python",
     "metadata": {},
     "outputs": [
      {
       "metadata": {},
       "output_type": "display_data",
       "png": "[encoded data removed]",
       "text": [
        "Figure(PyObject <matplotlib.figure.Figure object at 0x7f6543011b10>)"
       ]
      },
      {
       "metadata": {},
       "output_type": "pyout",
       "prompt_number": 9,
       "text": [
        "1-element Array{Any,1}:\n",
        " PyObject <matplotlib.lines.Line2D object at 0x7f655d125710>"
       ]
      }
     ],
     "prompt_number": 9
    },
    {
     "cell_type": "code",
     "collapsed": false,
     "input": [
      "T"
     ],
     "language": "python",
     "metadata": {},
     "outputs": [
      {
       "metadata": {},
       "output_type": "pyout",
       "prompt_number": 20,
       "text": [
        "0.4755149999999999"
       ]
      }
     ],
     "prompt_number": 20
    },
    {
     "cell_type": "code",
     "collapsed": false,
     "input": [
      "z0"
     ],
     "language": "python",
     "metadata": {},
     "outputs": [
      {
       "metadata": {},
       "output_type": "pyout",
       "prompt_number": 11,
       "text": [
        "[1.465105663423389485384157577788883183894147263341844813249214015635777177970489e-01,\n",
        "3.000285063879486279838975665413423332986011341339537267189783719015051379548804e+00]"
       ]
      }
     ],
     "prompt_number": 11
    },
    {
     "cell_type": "code",
     "collapsed": false,
     "input": [
      "BuscarTBuena(x0,t0,h,n,F::Function,z0)"
     ],
     "language": "python",
     "metadata": {},
     "outputs": []
    },
    {
     "cell_type": "code",
     "collapsed": false,
     "input": [
      "BuscarTBuena(x0,T,h,n,F,z0)"
     ],
     "language": "python",
     "metadata": {},
     "outputs": [
      {
       "metadata": {},
       "output_type": "pyout",
       "prompt_number": 19,
       "text": [
        "0.4755149999999997"
       ]
      }
     ],
     "prompt_number": 19
    },
    {
     "cell_type": "code",
     "collapsed": false,
     "input": [],
     "language": "python",
     "metadata": {},
     "outputs": [
      {
       "metadata": {},
       "output_type": "pyout",
       "prompt_number": 21,
       "text": [
        "true"
       ]
      }
     ],
     "prompt_number": 21
    },
    {
     "cell_type": "code",
     "collapsed": false,
     "input": [],
     "language": "python",
     "metadata": {},
     "outputs": []
    },
    {
     "cell_type": "code",
     "collapsed": false,
     "input": [],
     "language": "python",
     "metadata": {},
     "outputs": []
    },
    {
     "cell_type": "heading",
     "level": 3,
     "metadata": {},
     "source": [
      "Hasta la l\u00ednea roja vamos a poder asegurarnos que hay soluci\u00f3n con intervalos!"
     ]
    },
    {
     "cell_type": "markdown",
     "metadata": {},
     "source": [
      "##PONER LA K-\u00c9SIMA Z"
     ]
    },
    {
     "cell_type": "code",
     "collapsed": false,
     "input": [
      "function zetasKas(tI,tF,x0,z0::Intervalo,F::Function)\n",
      "    f(s)=F(\"afw\",s)\n",
      "    x0 + Intervalo(tI,tF)*f(z0)\n",
      "end\n",
      "\n",
      "function kaesimaZeta(tI,tF,x0,z0::Intervalo,f::Function,k::Int64)\n",
      "    zetas=[z0]\n",
      "    for i=1:k\n",
      "        zk=zetasKas(tI,tF,x0,zetas[i],f)\n",
      "        if zk==zetas[i]\n",
      "            return zetas\n",
      "        else\n",
      "            push!(zetas,zk)\n",
      "        end\n",
      "    end\n",
      "\n",
      "    return zetas\n",
      "end"
     ],
     "language": "python",
     "metadata": {},
     "outputs": [
      {
       "metadata": {},
       "output_type": "pyout",
       "prompt_number": 2,
       "text": [
        "kaesimaZeta (generic function with 1 method)"
       ]
      }
     ],
     "prompt_number": 2
    },
    {
     "cell_type": "markdown",
     "metadata": {},
     "source": [
      "###ESTA ES LA Z(K) a usar:"
     ]
    },
    {
     "cell_type": "code",
     "collapsed": false,
     "input": [
      "\n",
      "zetachida=kaesimaZeta(0,T,x0,z0,F,50000)[end]"
     ],
     "language": "python",
     "metadata": {},
     "outputs": [
      {
       "ename": "LoadError",
       "evalue": "T not defined\nwhile loading In[3], in expression starting on line 2",
       "output_type": "pyerr",
       "traceback": [
        "T not defined\nwhile loading In[3], in expression starting on line 2",
        ""
       ]
      }
     ],
     "prompt_number": 3
    },
    {
     "cell_type": "code",
     "collapsed": false,
     "input": [
      "function graficaCono(tI,tF,x0,zk::Intervalo)\n",
      "    PyPlot.fill_between([tI,tF],[x0,float64(zk.a)],[x0,float64(zk.b)],color=\"lightblue\")\n",
      "    #PyPlot.xlim(min(0.9*tI,1.1*tI),max(0.9*tF,1.1*tF))\n",
      "    #PyPlot.ylim(min(0.9*float64(zk.a),1.1*float64(zk.a)),max(0.9*float64(zk.b),1.1*float64(zk.b)))\n",
      "    return nothing\n",
      "end\n"
     ],
     "language": "python",
     "metadata": {},
     "outputs": [
      {
       "metadata": {},
       "output_type": "pyout",
       "prompt_number": 44,
       "text": [
        "graficaCono (generic function with 1 method)"
       ]
      }
     ],
     "prompt_number": 44
    },
    {
     "cell_type": "code",
     "collapsed": false,
     "input": [
      "F(t,x)=-2x\n",
      "t0=0.0;\n",
      "x0=3.0;\n",
      "h=0.000015;\n",
      "n=100000;\n",
      "tf=t0+h*n;\n",
      "\n",
      "@time x_RK=RungeKutta4(t0,x0,h,n,F);"
     ],
     "language": "python",
     "metadata": {},
     "outputs": [
      {
       "ename": "LoadError",
       "evalue": "RungeKutta4 not defined\nwhile loading In[1], in expression starting on line 56",
       "output_type": "pyerr",
       "traceback": [
        "RungeKutta4 not defined\nwhile loading In[1], in expression starting on line 56",
        ""
       ]
      }
     ],
     "prompt_number": 1
    },
    {
     "cell_type": "code",
     "collapsed": false,
     "input": [
      "@time T=BuscarTBuena(x0,h,n,F);\n",
      "\n",
      "#z1=3.0+Intervalo(0,T)*f(T,z0)"
     ],
     "language": "python",
     "metadata": {},
     "outputs": [
      {
       "output_type": "stream",
       "stream": "stdout",
       "text": [
        "elapsed time: 7"
       ]
      },
      {
       "output_type": "stream",
       "stream": "stdout",
       "text": [
        ".153223336 seconds (1036845216 bytes allocated, 30.62% gc time)\n"
       ]
      },
      {
       "metadata": {},
       "output_type": "pyout",
       "prompt_number": 56,
       "text": [
        "0.4755149999999999"
       ]
      }
     ],
     "prompt_number": 56
    },
    {
     "cell_type": "code",
     "collapsed": false,
     "input": [
      "@time z0=zetacero(x0,h,n,F)"
     ],
     "language": "python",
     "metadata": {},
     "outputs": [
      {
       "output_type": "stream",
       "stream": "stdout",
       "text": [
        "elapsed time: 0."
       ]
      },
      {
       "output_type": "stream",
       "stream": "stdout",
       "text": [
        "160384724 seconds (52793056 bytes allocated, 32.44% gc time)\n"
       ]
      },
      {
       "metadata": {},
       "output_type": "pyout",
       "prompt_number": 58,
       "text": [
        "[1.465105663423389485384157577788883183894147263341844813249214015635777177970489e-01,\n",
        "3.000285063879486279838975665413423332986011341339537267189783719015051379548804e+00]"
       ]
      }
     ],
     "prompt_number": 58
    },
    {
     "cell_type": "code",
     "collapsed": false,
     "input": [
      "PyPlot.plot(linspace(t0,tf,n+1),x_RK,\"blue\");\n",
      "PyPlot.plot(linspace(T,T,n+1),linspace(minimum(x_RK),maximum(x_RK),n+1),\"--r\")\n",
      "graficaCono(0,T,x0,zetachida)"
     ],
     "language": "python",
     "metadata": {},
     "outputs": [
      {
       "metadata": {},
       "output_type": "display_data",
       "png": "[encoded data removed]",
       "text": [
        "Figure(PyObject <matplotlib.figure.Figure object at 0x7fb85414dd10>)"
       ]
      }
     ],
     "prompt_number": 55
    },
    {
     "cell_type": "code",
     "collapsed": false,
     "input": [
      "T"
     ],
     "language": "python",
     "metadata": {},
     "outputs": [
      {
       "metadata": {},
       "output_type": "pyout",
       "prompt_number": 46,
       "text": [
        "0.4755149999999999"
       ]
      }
     ],
     "prompt_number": 46
    },
    {
     "cell_type": "code",
     "collapsed": false,
     "input": [],
     "language": "python",
     "metadata": {},
     "outputs": []
    },
    {
     "cell_type": "code",
     "collapsed": false,
     "input": [],
     "language": "python",
     "metadata": {},
     "outputs": []
    },
    {
     "cell_type": "code",
     "collapsed": false,
     "input": [
      "F(t,x)=-2x\n",
      "t0=0.0;\n",
      "x0=3.0;\n",
      "h=0.000015;\n",
      "n=100000;\n",
      "tf=t0+h*n;\n",
      "\n",
      "x_RK=RungeKutta4(t0,x0,h,n,F);\n",
      "\n",
      "T=BuscarTBuena(x0,h,n,F)"
     ],
     "language": "python",
     "metadata": {},
     "outputs": [
      {
       "metadata": {},
       "output_type": "pyout",
       "prompt_number": 4,
       "text": [
        "0.4755149999999999"
       ]
      }
     ],
     "prompt_number": 4
    },
    {
     "cell_type": "code",
     "collapsed": false,
     "input": [
      "println(tf)\n",
      "z0=zetacero(x0,h,n,F)"
     ],
     "language": "python",
     "metadata": {},
     "outputs": [
      {
       "output_type": "stream",
       "stream": "stdout",
       "text": [
        "1."
       ]
      },
      {
       "output_type": "stream",
       "stream": "stdout",
       "text": [
        "5\n"
       ]
      },
      {
       "metadata": {},
       "output_type": "pyout",
       "prompt_number": 8,
       "text": [
        "[1.465105663423389485384157577788883183894147263341844813249214015635777177970489e-01,\n",
        "3.000285063879486279838975665413423332986011341339537267189783719015051379548804e+00]"
       ]
      }
     ],
     "prompt_number": 8
    },
    {
     "cell_type": "code",
     "collapsed": false,
     "input": [
      "F(t,x)=-2x\n",
      "t0=0.0;\n",
      "x0=3.0;\n",
      "h=0.000015;\n",
      "n=100000-60000;\n",
      "tf=t0+h*n;\n",
      "\n",
      "x_RK=RungeKutta4(t0,x0,h,n,F);\n",
      "\n",
      "T=BuscarTBuena(x0,h,n,F)"
     ],
     "language": "python",
     "metadata": {},
     "outputs": [
      {
       "metadata": {},
       "output_type": "pyout",
       "prompt_number": 13,
       "text": [
        "0.34970999999999997"
       ]
      }
     ],
     "prompt_number": 13
    },
    {
     "cell_type": "code",
     "collapsed": false,
     "input": [
      "println(tf)\n",
      "z0=zetacero(x0,h,n,F)"
     ],
     "language": "python",
     "metadata": {},
     "outputs": [
      {
       "output_type": "stream",
       "stream": "stdout",
       "text": [
        "0.6"
       ]
      },
      {
       "output_type": "stream",
       "stream": "stdout",
       "text": [
        "\n"
       ]
      },
      {
       "metadata": {},
       "output_type": "pyout",
       "prompt_number": 14,
       "text": [
        "[9.014862184537615682041657710028408822663211563887340405786849728944946317371611e-01,\n",
        "3.000209641736418205647584077648120042565747887882783438802979813531579881652174e+00]"
       ]
      }
     ],
     "prompt_number": 14
    },
    {
     "cell_type": "code",
     "collapsed": false,
     "input": [
      "F(t,x)=-2x\n",
      "t0=0.0;\n",
      "x0=3.0;\n",
      "h=0.000015;\n",
      "n=100000+60000;\n",
      "tf=t0+h*n;\n",
      "\n",
      "x_RK=RungeKutta4(t0,x0,h,n,F);\n",
      "\n",
      "T=BuscarTBuena(x0,h,n,F)"
     ],
     "language": "python",
     "metadata": {},
     "outputs": [
      {
       "metadata": {},
       "output_type": "pyout",
       "prompt_number": 19,
       "text": [
        "0.4963049999999998"
       ]
      }
     ],
     "prompt_number": 19
    },
    {
     "cell_type": "code",
     "collapsed": false,
     "input": [
      "println(tf)\n",
      "z0=zetacero(x0,h,n,F)"
     ],
     "language": "python",
     "metadata": {},
     "outputs": [
      {
       "output_type": "stream",
       "stream": "stdout",
       "text": [
        "2."
       ]
      },
      {
       "output_type": "stream",
       "stream": "stdout",
       "text": [
        "4\n"
       ]
      },
      {
       "metadata": {},
       "output_type": "pyout",
       "prompt_number": 20,
       "text": [
        "[2.171393039710481439509606546209190683898117405910157455767747357139964064706716e-02,\n",
        "3.000297531075884405127699061605247249464457287928448692089131019104917374392706e+00]"
       ]
      }
     ],
     "prompt_number": 20
    },
    {
     "cell_type": "code",
     "collapsed": false,
     "input": [],
     "language": "python",
     "metadata": {},
     "outputs": []
    },
    {
     "cell_type": "code",
     "collapsed": false,
     "input": [],
     "language": "python",
     "metadata": {},
     "outputs": []
    }
   ],
   "metadata": {}
  }
 ]
}