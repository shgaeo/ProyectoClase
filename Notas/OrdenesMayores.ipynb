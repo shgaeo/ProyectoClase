{
 "metadata": {
  "celltoolbar": "Slideshow",
  "language": "Julia",
  "name": "",
  "signature": "sha256:e71292658ff263a39e9923d27c8f55c1c78214cb6fe9111f1d1704d7fbf8a453"
 },
 "nbformat": 3,
 "nbformat_minor": 0,
 "worksheets": [
  {
   "cells": [
    {
     "cell_type": "code",
     "collapsed": false,
     "input": [
      "tic()\n",
      "using PrimerOrden\n",
      "using Intervalos\n",
      "using RungeKutta\n",
      "using PyPlot\n",
      "toc()"
     ],
     "language": "python",
     "metadata": {},
     "outputs": [
      {
       "output_type": "stream",
       "stream": "stdout",
       "text": [
        "elapsed time: 0."
       ]
      },
      {
       "output_type": "stream",
       "stream": "stdout",
       "text": [
        "000614446 seconds\n"
       ]
      },
      {
       "metadata": {},
       "output_type": "pyout",
       "prompt_number": 2,
       "text": [
        "0.000614446"
       ]
      }
     ],
     "prompt_number": 2
    },
    {
     "cell_type": "code",
     "collapsed": false,
     "input": [
      "tic()\n",
      "###Condiciones para correr cualquier prueba:\n",
      "\n",
      "# d/dt x(t) = -2x(t) ; x(0)=3   \u2192    x(t)= 3 exp(-2t)\n",
      "f(t,x)=-x\n",
      "f(x)=-x\n",
      "\n",
      "t0=0.0;\n",
      "x0=1.0;\n",
      "dt=2.0^-12;\n",
      "n=2^12;\n",
      "tf=t0+dt*n;\n",
      "ordenK=10;\n",
      "pasosdeintegracion=40;\n",
      "M=pasosdeintegracion;\n",
      "\n",
      "x_RK=RungeKutta4(t0,x0,dt,n,f);\n",
      "\n",
      "toc()"
     ],
     "language": "python",
     "metadata": {},
     "outputs": [
      {
       "output_type": "stream",
       "stream": "stdout",
       "text": [
        "elapsed time: "
       ]
      },
      {
       "output_type": "stream",
       "stream": "stdout",
       "text": [
        "0.163254979 seconds\n"
       ]
      },
      {
       "metadata": {},
       "output_type": "pyout",
       "prompt_number": 3,
       "text": [
        "0.163254979"
       ]
      }
     ],
     "prompt_number": 3
    },
    {
     "cell_type": "code",
     "collapsed": false,
     "input": [
      "x0=Intervalo(\"1.1\");\n",
      "k=5;\n",
      "\n",
      "function x_Kas(x0,f,k)\n",
      "  xk=[x0]  \n",
      "    fxk=[f(xk[1])]\n",
      "    for i = 2:k\n",
      "        push!(xk,(f(fxk[i-1]))/(i+1))\n",
      "        push!(fxk,f(xk[i]))     \n",
      "    end\n",
      "    return xk\n",
      "end\n"
     ],
     "language": "python",
     "metadata": {},
     "outputs": [
      {
       "metadata": {},
       "output_type": "pyout",
       "prompt_number": 4,
       "text": [
        "x_Kas (generic function with 1 method)"
       ]
      }
     ],
     "prompt_number": 4
    },
    {
     "cell_type": "code",
     "collapsed": false,
     "input": [
      "x_Kas(x0,f,k)"
     ],
     "language": "python",
     "metadata": {},
     "outputs": [
      {
       "metadata": {},
       "output_type": "pyout",
       "prompt_number": 45,
       "text": [
        "5-element Array{Intervalo,1}:\n",
        " [1.099999999999999999999999999999999999999999999999999999999999999999999999999986e+00,\n",
        "1.100000000000000000000000000000000000000000000000000000000000000000000000000003e+00]\n",
        " [3.666666666666666666666666666666666666666666666666666666666666666666666666666592e-01,\n",
        "3.666666666666666666666666666666666666666666666666666666666666666666666666666678e-01]\n",
        " [9.16666666666666666666666666666666666666666666666666666666666666666666666666648e-02,\n",
        "9.166666666666666666666666666666666666666666666666666666666666666666666666666695e-02] \n",
        " [1.833333333333333333333333333333333333333333333333333333333333333333333333333285e-02,\n",
        "1.833333333333333333333333333333333333333333333333333333333333333333333333333339e-02]\n",
        " [3.055555555555555555555555555555555555555555555555555555555555555555555555555464e-03,\n",
        "3.055555555555555555555555555555555555555555555555555555555555555555555555555565e-03]"
       ]
      }
     ],
     "prompt_number": 45
    },
    {
     "cell_type": "code",
     "collapsed": false,
     "input": [],
     "language": "python",
     "metadata": {},
     "outputs": [],
     "prompt_number": 27
    },
    {
     "cell_type": "code",
     "collapsed": false,
     "input": [],
     "language": "python",
     "metadata": {},
     "outputs": []
    }
   ],
   "metadata": {}
  }
 ]
}